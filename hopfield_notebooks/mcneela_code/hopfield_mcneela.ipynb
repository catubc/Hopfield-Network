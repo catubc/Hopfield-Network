{
 "cells": [
  {
   "cell_type": "code",
   "execution_count": 1,
   "id": "70ff7831-3aae-4e8e-b139-5b5a2c99c649",
   "metadata": {},
   "outputs": [],
   "source": [
    "# %load ../../retina/mlearn/hopfield/hopfield_network.py\n",
    "import numpy as np\n",
    "import random\n",
    "# -*- coding: utf-8 -*-\n",
    "\n",
    "%load_ext autoreload\n",
    "%autoreload 2\n",
    "%matplotlib tk\n",
    "import sys\n",
    "import argparse\n",
    "import numpy as np\n",
    "import matplotlib.pyplot as plt\n",
    "from tqdm import trange, tqdm\n",
    "\n",
    "from hopfield_mcneela.hopfield import HopfieldNetwork, VisualNeuron, VisualHopfield\n"
   ]
  },
  {
   "cell_type": "code",
   "execution_count": 6,
   "id": "1aaaf3a9-9de3-45d3-bcc7-1c9f20115e1f",
   "metadata": {},
   "outputs": [],
   "source": [
    "# %load ocr.py\n",
    "from retina.mlearn.hopfield.alphabet import *\n",
    "import retina.mlearn.hopfield.visuals as visuals\n",
    "import numpy as np\n",
    "\n",
    "def to_state(letter):\n",
    "    return np.array([1 if char == 'X' else -1 for char in letter.replace('\\n','')])\n",
    "\n",
    "#\n",
    "myNet = visuals.VisualHopfield(25)\n",
    "#alphabet = [A, B, C, D, E, F, G, H, I, J, K, L, M, \n",
    "#            N, O, P, Q, R, S, T, U, V, W, X, Y, Z]\n",
    "alphabet = [A, B, C]#, D, E]#, G, H, I, J, K, L, M, \n",
    "            #N, O, P, Q, R, S, T, U, V, W, X, Y, Z]\n",
    "training_data = [to_state(letter) for letter in alphabet]\n",
    "recall_data = [to_state(l1)]"
   ]
  },
  {
   "cell_type": "code",
   "execution_count": 7,
   "id": "820bd5ab-0d9f-4654-ba45-35071ab2e051",
   "metadata": {},
   "outputs": [],
   "source": [
    "\n",
    "\n",
    "# myNet.network_fig = plt.figure(figsize=(10, 10))\n",
    "# myNet.network_fig.canvas.set_window_title(\"Hopfield Network Visualization\")\n",
    "\n",
    "# myNet.main_network = plt.subplot(111)\n",
    "# myNet.main_network.set_title(\"Network Diagram\")\n",
    "# myNet.main_network.get_xaxis().set_ticks([])\n",
    "# myNet.main_network.get_yaxis().set_ticks([])\n",
    "\n",
    "# myNet.network_fig.suptitle(\"Hopfield Network Visualization\", fontsize=14)\n",
    "\n",
    "# myNet._draw_network()\n",
    "\n"
   ]
  },
  {
   "cell_type": "code",
   "execution_count": 8,
   "id": "4a645c11-dafc-477d-801e-c9927ff366b1",
   "metadata": {},
   "outputs": [
    {
     "name": "stdout",
     "output_type": "stream",
     "text": [
      "Training...\n",
      "Learning...\n",
      "Finished.\n"
     ]
    }
   ],
   "source": [
    "#####################################################\n",
    "#####################################################\n",
    "#####################################################\n",
    "#\n",
    "myNet.run_visualization(training_data, recall_data)\n",
    "#myNet.train(training_data)\n",
    "#myNet.train(training_data, inject=myNet._train_inject)\n"
   ]
  },
  {
   "cell_type": "code",
   "execution_count": 11,
   "id": "18616fe8-fb96-4b86-8996-8a8d69a0f72a",
   "metadata": {},
   "outputs": [],
   "source": [
    "img_ids = np.arange(len(alphabet))\n",
    "plt.figure()\n",
    "ctr=0\n",
    "for img_id in img_ids:\n",
    "    #print (training_data[img_id])\n",
    "    out = myNet.recall([training_data[img_id]])\n",
    "\n",
    "    #\n",
    "    ax1=plt.subplot(5,6,ctr+1)\n",
    "    img1 = training_data[img_id].reshape(5,5)\n",
    "    img2 = out.reshape(5,5)\n",
    "    row = np.zeros(5)+np.nan\n",
    "    img = np.vstack((img1,row))\n",
    "    img = np.vstack((img,img2))\n",
    "    \n",
    "    plt.imshow(img, cmap='binary')\n",
    "    \n",
    "    plt.xticks([])\n",
    "    plt.yticks([])\n",
    "    plt.axis('off')\n",
    "    ctr+=1\n",
    "#plt.tight_layout()\n",
    "plt.show()"
   ]
  },
  {
   "cell_type": "code",
   "execution_count": null,
   "id": "c06add86-ffbe-4680-8087-69a83941cc22",
   "metadata": {},
   "outputs": [],
   "source": []
  }
 ],
 "metadata": {
  "kernelspec": {
   "display_name": "Python 3 (ipykernel)",
   "language": "python",
   "name": "python3"
  },
  "language_info": {
   "codemirror_mode": {
    "name": "ipython",
    "version": 3
   },
   "file_extension": ".py",
   "mimetype": "text/x-python",
   "name": "python",
   "nbconvert_exporter": "python",
   "pygments_lexer": "ipython3",
   "version": "3.7.12"
  }
 },
 "nbformat": 4,
 "nbformat_minor": 5
}
