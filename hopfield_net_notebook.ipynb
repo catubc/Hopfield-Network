{
 "cells": [
  {
   "cell_type": "code",
   "execution_count": 1,
   "id": "ec40ae06-69fd-45f5-9a55-15b86c6d6c19",
   "metadata": {},
   "outputs": [],
   "source": [
    "# -*- coding: utf-8 -*-\n",
    "\"\"\"\n",
    "Created on Tue Apr  7 21:25:46 2020\n",
    "\n",
    "@author: gn-00\n",
    "\"\"\"\n",
    "import sys\n",
    "import argparse\n",
    "import numpy as np\n",
    "import matplotlib.pyplot as plt\n",
    "from tqdm import trange, tqdm\n",
    "\n",
    "%matplotlib tk\n",
    "\n",
    "from hopfield.hopfield import hopfield"
   ]
  },
  {
   "cell_type": "code",
   "execution_count": 2,
   "id": "63d57a85-4b1c-4ff2-9712-d8eda611d1ac",
   "metadata": {},
   "outputs": [
    {
     "name": "stdout",
     "output_type": "stream",
     "text": [
      "Model initialized with weights shape  (1024, 1024)\n"
     ]
    },
    {
     "name": "stderr",
     "output_type": "stream",
     "text": [
      "100%|█████████████████████████████████████████████████████████| 1024/1024 [00:05<00:00, 186.27it/s]\n",
      "100%|█████████████████████████████████████████████████████████| 1024/1024 [00:05<00:00, 187.05it/s]\n",
      "100%|█████████████████████████████████████████████████████████| 1024/1024 [00:05<00:00, 187.84it/s]\n",
      "100%|█████████████████████████████████████████████████████████| 1024/1024 [00:05<00:00, 186.37it/s]"
     ]
    },
    {
     "name": "stdout",
     "output_type": "stream",
     "text": [
      "...DONE...\n"
     ]
    },
    {
     "name": "stderr",
     "output_type": "stream",
     "text": [
      "\n"
     ]
    }
   ],
   "source": [
    "######################################################################\n",
    "######################################################################\n",
    "######################################################################\n",
    "#\n",
    "np.random.seed(1)\n",
    "imgs = [\n",
    "'/home/cat/code/Hopfield-Network/data/1.png',\n",
    "#'/home/cat/code/Hopfield-Network/2.png',\n",
    "#'/home/cat/code/Hopfield-Network/3.png',\n",
    "#'/home/cat/code/Hopfield-Network/4.png',\n",
    "#'/home/cat/code/Hopfield-Network/5.png',\n",
    "#'/home/cat/code/Hopfield-Network/6.png',\n",
    "#'/home/cat/code/Hopfield-Network/7.png',\n",
    "#'/home/cat/code/Hopfield-Network/8.png',\n",
    "#'/home/cat/code/Hopfield-Network/9.png',\n",
    "'/home/cat/code/Hopfield-Network/data/A.png',\n",
    "'/home/cat/code/Hopfield-Network/data/B.png',\n",
    "'/home/cat/code/Hopfield-Network/data/G.png'\n",
    "]\n",
    "\n",
    "iteration = 100\n",
    "\n",
    "input_shape = (32,32)\n",
    "model = hopfield(input_shape)\n",
    "print('Model initialized with weights shape ',model.W.shape)\n",
    "\n",
    "### Training Model ###\n",
    "for train_data in imgs:\n",
    "    #print('Start training ',train_data,'...')\n",
    "    model.addTrain(train_data)\n",
    "    #print(train_data,'training completed!')\n",
    "print (\"...DONE...\")   "
   ]
  },
  {
   "cell_type": "code",
   "execution_count": 8,
   "id": "969d52f8-48a7-49ab-9ff0-beaa0e5d8e5e",
   "metadata": {},
   "outputs": [
    {
     "name": "stdout",
     "output_type": "stream",
     "text": [
      "temp:  (32, 32, 4)\n",
      "(32, 32)\n",
      "Starting asynchronous update with  100  iterations\n",
      "Iteration# 0 , Energy:  -176618.0\n",
      "Iteration# 1 , Energy:  -239822.0\n",
      "Iteration# 2 , Energy:  -283818.0\n",
      "Iteration# 3 , Energy:  -322558.0\n",
      "Iteration# 4 , Energy:  -363738.0\n",
      "Iteration# 5 , Energy:  -420742.0\n",
      "Iteration# 6 , Energy:  -484594.0\n",
      "Iteration# 7 , Energy:  -509778.0\n",
      "Iteration# 8 , Energy:  -527998.0\n",
      "Iteration# 9 , Energy:  -560846.0\n",
      "Iteration# 10 , Energy:  -580286.0\n",
      "Iteration# 11 , Energy:  -606478.0\n",
      "Iteration# 12 , Energy:  -617698.0\n",
      "Iteration# 13 , Energy:  -630454.0\n",
      "Iteration# 14 , Energy:  -634266.0\n",
      "Iteration# 15 , Energy:  -640330.0\n",
      "Iteration# 16 , Energy:  -650902.0\n",
      "Iteration# 17 , Energy:  -657070.0\n",
      "Iteration# 18 , Energy:  -658322.0\n",
      "Iteration# 19 , Energy:  -666170.0\n",
      "Iteration# 20 , Energy:  -666170.0\n",
      "Energy remain unchanged, update will now stop.\n",
      "Iteration completed, update will now stop.\n",
      "(32, 32)\n",
      "Starting synchronous update with  100  iterations\n",
      "Iteration# 0 , Energy:  -690994.0\n",
      "Iteration# 1 , Energy:  -690994.0\n",
      "Energy remain unchanged, update will now stop.\n",
      "Iteration completed, update will now stop.\n"
     ]
    }
   ],
   "source": [
    "######################################################################\n",
    "######################################################################\n",
    "######################################################################\n",
    "\n",
    "# mat_input = np.where(np.random.rand(input_shape[0],input_shape[1])<0.5,0,1)\n",
    "# mat_input = np.mean(plt.imread(np.random.choice(options.train)),axis=2) + np.random.uniform(-1,1,input_shape)\n",
    "\n",
    "img_id = 0\n",
    "\n",
    "# random uniform noise\n",
    "#mat_input = np.mean(plt.imread(imgs[img_id]),axis=2) + np.random.uniform(-1,1,input_shape)\n",
    "\n",
    "# occulsion\n",
    "temp = plt.imread(imgs[img_id])\n",
    "print (\"temp: \", temp.shape)\n",
    "mat_input = np.mean(temp,axis=2)\n",
    "mat_input[:10] = 0\n",
    "\n",
    "\n",
    "mat_input = np.where(mat_input < 0.5,0,1)\n",
    "\n",
    "### Update states ###\n",
    "output_async,e_list_async = model.predict(mat_input,iteration,asyn=True)\n",
    "output_sync,e_list_sync = model.predict(mat_input,iteration,asyn=False)\n"
   ]
  },
  {
   "cell_type": "code",
   "execution_count": 7,
   "id": "bc774442-6c60-4f9c-a18f-8e111385afca",
   "metadata": {},
   "outputs": [
    {
     "name": "stderr",
     "output_type": "stream",
     "text": [
      "/media/cat/4TBSSD/anaconda3/envs/ai/lib/python3.7/site-packages/ipykernel_launcher.py:32: MatplotlibDeprecationWarning: The 'b' parameter of grid() has been renamed 'visible' since Matplotlib 3.5; support for the old name will be dropped two minor releases later.\n"
     ]
    }
   ],
   "source": [
    "######################################################################\n",
    "######################################################################\n",
    "######################################################################\n",
    "### Plotting Final Result###\n",
    "fig = plt.figure(1)\n",
    "fig.suptitle('Result with %i iteration' %iteration)\n",
    "\n",
    "#\n",
    "axs1 = fig.add_subplot(231)\n",
    "axs1.set_title('Input')\n",
    "axs1.imshow(mat_input*255,cmap='binary')\n",
    "\n",
    "#\n",
    "axs2 = fig.add_subplot(232)\n",
    "axs2.set_title('Async Update')\n",
    "axs2.imshow(output_async*255,cmap='binary')\n",
    "\n",
    "#\n",
    "axs3 = fig.add_subplot(233)\n",
    "axs3.set_title('Sync Update')\n",
    "axs3.imshow(output_sync*255,cmap='binary')\n",
    "\n",
    "#\n",
    "axs4 = fig.add_subplot(2,1,2)\n",
    "axs4.plot(e_list_async)\n",
    "axs4.plot(e_list_sync)\n",
    "axs4.annotate(int(e_list_async[-1]),[len(e_list_async)-1,e_list_async[-1]])\n",
    "axs4.annotate(int(e_list_sync[-1]),[len(e_list_sync)-1,e_list_sync[-1]])\n",
    "axs4.set_ylabel('Energy')\n",
    "axs4.set_xlabel('Iteration')\n",
    "axs4.legend(['Async','Sync'])\n",
    "axs4.grid(b=True,which='both')\n",
    "axs4.set_xlim(0,max(len(e_list_async),len(e_list_sync))-1)\n",
    "\n",
    "#\n",
    "fig.canvas.draw_idle()\n",
    "fig2 = plt.figure(2)\n",
    "fig2.suptitle('Model Weights')\n",
    "axs2 = fig2.gca()\n",
    "axs2.imshow(model.W)\n",
    "fig2.canvas.draw_idle()\n",
    "#\n",
    "\n",
    "plt.show()\n",
    "#plt.pause(0.5)\n",
    "#input(\"Press Enter to continue...\")"
   ]
  },
  {
   "cell_type": "code",
   "execution_count": null,
   "id": "d3a6654e-8705-4b63-8160-8ddce7f7fa57",
   "metadata": {},
   "outputs": [],
   "source": []
  }
 ],
 "metadata": {
  "kernelspec": {
   "display_name": "Python 3 (ipykernel)",
   "language": "python",
   "name": "python3"
  },
  "language_info": {
   "codemirror_mode": {
    "name": "ipython",
    "version": 3
   },
   "file_extension": ".py",
   "mimetype": "text/x-python",
   "name": "python",
   "nbconvert_exporter": "python",
   "pygments_lexer": "ipython3",
   "version": "3.7.12"
  }
 },
 "nbformat": 4,
 "nbformat_minor": 5
}
